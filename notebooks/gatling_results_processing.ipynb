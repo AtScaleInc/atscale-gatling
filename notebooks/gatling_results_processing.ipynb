{
 "cells": [
  {
   "cell_type": "code",
   "execution_count": 28,
   "id": "86d9fdf9-c4fa-4db9-97dd-5012335d9bf4",
   "metadata": {
    "editable": true,
    "slideshow": {
     "slide_type": ""
    },
    "tags": []
   },
   "outputs": [],
   "source": [
    "import re\n",
    "import pandas as pd\n",
    "from io import StringIO\n",
    "pd.set_option('display.max_colwidth', None)"
   ]
  },
  {
   "cell_type": "code",
   "execution_count": 29,
   "id": "b1d30744-1511-4c83-b57f-3561524755f9",
   "metadata": {
    "editable": true,
    "slideshow": {
     "slide_type": ""
    },
    "tags": [
     "parameters"
    ]
   },
   "outputs": [],
   "source": [
    "# parameters\n",
    "base_input_log = \"/home/jovyan/run_logs/b.log\"   \n",
    "delta_input_log = \"/home/jovyan/run_logs/delta.log\""
   ]
  },
  {
   "cell_type": "code",
   "execution_count": 30,
   "id": "74426f2a-ccd1-4826-b978-50cc07bd723d",
   "metadata": {
    "editable": false,
    "slideshow": {
     "slide_type": ""
    },
    "tags": []
   },
   "outputs": [],
   "source": [
    "# --- Define a Function for Parsing the log_line column into key-value pairs ---\n",
    "\n",
    "def parse_log_line(line):\n",
    "    \"\"\"\n",
    "    Parses a log line and extracts the key-value pairs.\n",
    "    \"\"\"\n",
    "    # Regex to capture the base info (datetime, etc.) and the key-value pairs.\n",
    "    # It handles both quoted and unquoted values.\n",
    "    # The pattern matches: key=value or key='value'\n",
    "    pattern = re.compile(r\"(\\w+)\\s*=\\s*(?:'([^']*)'|(\\S+))\")\n",
    "    \n",
    "    # Extract all key-value pairs from the log string\n",
    "    kv_matches = pattern.findall(line)\n",
    "    \n",
    "    # Create a dictionary, handling the nested tuple from the regex\n",
    "    kv_dict = {key: val1 if val1 else val2 for key, val1, val2 in kv_matches}\n",
    "    \n",
    "    # Extract the initial static log information\n",
    "    try:\n",
    "        # Split the string up to the first key-value pair\n",
    "        base_info_str = re.split(r'\\s\\w+=', line, 1)[0]\n",
    "        base_info_parts = base_info_str.split()\n",
    "        kv_dict['timestamp'] = f\"{base_info_parts[0]} {base_info_parts[1]}\"\n",
    "        kv_dict['level'] = base_info_parts[2]\n",
    "        kv_dict['logger'] = base_info_parts[3].replace(\":\", \"\")\n",
    "    except (IndexError, AttributeError):\n",
    "        pass # Handle cases with different log formats gracefully\n",
    "        \n",
    "    return kv_dict"
   ]
  },
  {
   "cell_type": "code",
   "execution_count": 31,
   "id": "f1d41636-fc72-4bf5-89c7-dd7f22646a4f",
   "metadata": {
    "editable": true,
    "slideshow": {
     "slide_type": ""
    },
    "tags": [
     "hide-cell"
    ]
   },
   "outputs": [],
   "source": [
    "def to_Dataframes(jdbc_input_log):\n",
    "    # read file one line per row putting it into the log_line column of a DataFrame\n",
    "    base = pd.read_csv(jdbc_input_log, sep=\"\\t\", header=None, names=[\"log_line\"], dtype=str)\n",
    "\n",
    "    # extract the jdbc response and the response rows into separate DataFrames each containing one row named log_line\n",
    "\n",
    "    # rows that do NOT contain 'rownumber' are the jdbc response\n",
    "    base_responses = base[~base[\"log_line\"].str.contains(\"rownumber\", na=False, regex=False)]\n",
    "\n",
    "    # rows that contain the literal 'rownumber' (case-sensitive) are the jdbc data rows\n",
    "    base_rows = base[base[\"log_line\"].str.contains(\"rownumber\", na=False, regex=False)]\n",
    "\n",
    "    # Apply the parsing function to each row of the 'log_line' column.\n",
    "    # The result will be a new DataFrame\n",
    "    base_expanded_responses = pd.DataFrame((base_responses['log_line'].apply(parse_log_line)).tolist())\n",
    "\n",
    "    # Clean up column dtypes\n",
    "    for col in ['gatlingSessionId', 'start', 'end', 'duration', 'rows']:\n",
    "        if col in base_expanded_responses.columns:\n",
    "            base_expanded_responses[col] = pd.to_numeric(base_expanded_responses[col], errors='coerce')\n",
    "\n",
    "    base_expanded_rows = pd.DataFrame((base_rows['log_line'].apply(parse_log_line)).tolist())\n",
    "\n",
    "    for col in ['gatlingSessionId', 'rownumber']:\n",
    "        if col in base_expanded_rows.columns:\n",
    "            base_expanded_rows[col] = pd.to_numeric(base_expanded_rows[col], errors='coerce')\n",
    "\n",
    "    response_sort_cols = ['gatlingRunId','status','gatlingSessionId','model','inboundTextAsMd5Hash']\n",
    "    row_sort_cols = ['gatlingRunId','status','gatlingSessionId','model','inboundTextAsMd5Hash']\n",
    "\n",
    "    return base_expanded_responses.sort_values(by=response_sort_cols).reset_index(drop=True), \\\n",
    "    base_expanded_rows.sort_values(by=row_sort_cols).reset_index(drop=True)\n"
   ]
  },
  {
   "cell_type": "code",
   "execution_count": 32,
   "id": "6f533c9c-dc13-4ff2-94e2-9a3cd0749381",
   "metadata": {
    "editable": true,
    "slideshow": {
     "slide_type": ""
    },
    "tags": []
   },
   "outputs": [],
   "source": [
    "base_responses, base_rows = to_Dataframes(base_input_log)\n",
    "delta_responses, delta_rows = to_Dataframes(delta_input_log)\n"
   ]
  },
  {
   "cell_type": "code",
   "execution_count": 33,
   "id": "c0a7362c-3093-4b64-bb11-dc5943e5dc8c",
   "metadata": {
    "editable": true,
    "slideshow": {
     "slide_type": ""
    },
    "tags": []
   },
   "outputs": [],
   "source": [
    "def row_level_diff(df_old: pd.DataFrame, df_new: pd.DataFrame) -> dict:\n",
    "    # ensure same columns and column order for literal row equality\n",
    "    common_cols = sorted(set(df_old.columns).union(df_new.columns))\n",
    "    a = df_old.reindex(columns=common_cols)\n",
    "    b = df_new.reindex(columns=common_cols)\n",
    "\n",
    "    merged = a.merge(b, how='outer', indicator=True)\n",
    "    added = merged[merged['_merge'] == 'right_only'].drop(columns=['_merge'])\n",
    "    removed = merged[merged['_merge'] == 'left_only'].drop(columns=['_merge'])\n",
    "    both = merged[merged['_merge'] == 'both'].drop(columns=['_merge'])\n",
    "\n",
    "    return {'added': added, 'removed': removed, 'common': both}"
   ]
  },
  {
   "cell_type": "code",
   "execution_count": 34,
   "id": "0fcbbf81-672d-45f6-8fba-156846dd49cf",
   "metadata": {
    "editable": true,
    "slideshow": {
     "slide_type": ""
    },
    "tags": []
   },
   "outputs": [],
   "source": [
    "results = row_level_diff(base_responses, delta_responses)"
   ]
  },
  {
   "cell_type": "code",
   "execution_count": 35,
   "id": "67a9d108-00c9-40ef-b2ed-970f18e6224e",
   "metadata": {
    "editable": true,
    "slideshow": {
     "slide_type": ""
    },
    "tags": []
   },
   "outputs": [
    {
     "data": {
      "text/html": [
       "<div>\n",
       "<style scoped>\n",
       "    .dataframe tbody tr th:only-of-type {\n",
       "        vertical-align: middle;\n",
       "    }\n",
       "\n",
       "    .dataframe tbody tr th {\n",
       "        vertical-align: top;\n",
       "    }\n",
       "\n",
       "    .dataframe thead th {\n",
       "        text-align: right;\n",
       "    }\n",
       "</style>\n",
       "<table border=\"1\" class=\"dataframe\">\n",
       "  <thead>\n",
       "    <tr style=\"text-align: right;\">\n",
       "      <th></th>\n",
       "      <th>duration</th>\n",
       "      <th>end</th>\n",
       "      <th>gatlingRunId</th>\n",
       "      <th>gatlingSessionId</th>\n",
       "      <th>inboundTextAsMd5Hash</th>\n",
       "      <th>level</th>\n",
       "      <th>logger</th>\n",
       "      <th>model</th>\n",
       "      <th>queryName</th>\n",
       "      <th>rows</th>\n",
       "      <th>start</th>\n",
       "      <th>status</th>\n",
       "      <th>timestamp</th>\n",
       "    </tr>\n",
       "  </thead>\n",
       "  <tbody>\n",
       "    <tr>\n",
       "      <th>70</th>\n",
       "      <td>1039</td>\n",
       "      <td>1761263877205</td>\n",
       "      <td>Gimme Shelter</td>\n",
       "      <td>1</td>\n",
       "      <td>be54cac66a736a56b5c57653badbb063</td>\n",
       "      <td>INFO</td>\n",
       "      <td>SqlLogger</td>\n",
       "      <td>internet_sales</td>\n",
       "      <td>Query 1</td>\n",
       "      <td>159</td>\n",
       "      <td>1761263876174</td>\n",
       "      <td>SUCCEEDED</td>\n",
       "      <td>2025-10-23 16:57:57</td>\n",
       "    </tr>\n",
       "    <tr>\n",
       "      <th>71</th>\n",
       "      <td>1031</td>\n",
       "      <td>1761263877205</td>\n",
       "      <td>Gimme Shelter</td>\n",
       "      <td>1</td>\n",
       "      <td>be54cac66a736a56b5c57653badbb069</td>\n",
       "      <td>INFO</td>\n",
       "      <td>SqlLogger</td>\n",
       "      <td>internet_sales</td>\n",
       "      <td>Query 100</td>\n",
       "      <td>0</td>\n",
       "      <td>1761263876174</td>\n",
       "      <td>SUCCEEDED</td>\n",
       "      <td>2025-10-23 16:57:57</td>\n",
       "    </tr>\n",
       "  </tbody>\n",
       "</table>\n",
       "</div>"
      ],
      "text/plain": [
       "    duration            end   gatlingRunId  gatlingSessionId  \\\n",
       "70      1039  1761263877205  Gimme Shelter                 1   \n",
       "71      1031  1761263877205  Gimme Shelter                 1   \n",
       "\n",
       "                inboundTextAsMd5Hash level     logger           model  \\\n",
       "70  be54cac66a736a56b5c57653badbb063  INFO  SqlLogger  internet_sales   \n",
       "71  be54cac66a736a56b5c57653badbb069  INFO  SqlLogger  internet_sales   \n",
       "\n",
       "    queryName  rows          start     status            timestamp  \n",
       "70    Query 1   159  1761263876174  SUCCEEDED  2025-10-23 16:57:57  \n",
       "71  Query 100     0  1761263876174  SUCCEEDED  2025-10-23 16:57:57  "
      ]
     },
     "execution_count": 35,
     "metadata": {},
     "output_type": "execute_result"
    }
   ],
   "source": [
    "results['added']"
   ]
  },
  {
   "cell_type": "code",
   "execution_count": 36,
   "id": "a8eaee7f-cf56-4e17-8561-e9f7ad79644b",
   "metadata": {
    "editable": true,
    "slideshow": {
     "slide_type": ""
    },
    "tags": []
   },
   "outputs": [
    {
     "data": {
      "text/html": [
       "<div>\n",
       "<style scoped>\n",
       "    .dataframe tbody tr th:only-of-type {\n",
       "        vertical-align: middle;\n",
       "    }\n",
       "\n",
       "    .dataframe tbody tr th {\n",
       "        vertical-align: top;\n",
       "    }\n",
       "\n",
       "    .dataframe thead th {\n",
       "        text-align: right;\n",
       "    }\n",
       "</style>\n",
       "<table border=\"1\" class=\"dataframe\">\n",
       "  <thead>\n",
       "    <tr style=\"text-align: right;\">\n",
       "      <th></th>\n",
       "      <th>duration</th>\n",
       "      <th>end</th>\n",
       "      <th>gatlingRunId</th>\n",
       "      <th>gatlingSessionId</th>\n",
       "      <th>inboundTextAsMd5Hash</th>\n",
       "      <th>level</th>\n",
       "      <th>logger</th>\n",
       "      <th>model</th>\n",
       "      <th>queryName</th>\n",
       "      <th>rows</th>\n",
       "      <th>start</th>\n",
       "      <th>status</th>\n",
       "      <th>timestamp</th>\n",
       "    </tr>\n",
       "  </thead>\n",
       "  <tbody>\n",
       "    <tr>\n",
       "      <th>10</th>\n",
       "      <td>1031</td>\n",
       "      <td>1761263877205</td>\n",
       "      <td>Gimme Shelter</td>\n",
       "      <td>1</td>\n",
       "      <td>be54cac66a736a56b5c57653badbb063</td>\n",
       "      <td>INFO</td>\n",
       "      <td>SqlLogger</td>\n",
       "      <td>internet_sales</td>\n",
       "      <td>Query 1</td>\n",
       "      <td>158</td>\n",
       "      <td>1761263876174</td>\n",
       "      <td>SUCCEEDED</td>\n",
       "      <td>2025-10-23 16:57:57</td>\n",
       "    </tr>\n",
       "  </tbody>\n",
       "</table>\n",
       "</div>"
      ],
      "text/plain": [
       "    duration            end   gatlingRunId  gatlingSessionId  \\\n",
       "10      1031  1761263877205  Gimme Shelter                 1   \n",
       "\n",
       "                inboundTextAsMd5Hash level     logger           model  \\\n",
       "10  be54cac66a736a56b5c57653badbb063  INFO  SqlLogger  internet_sales   \n",
       "\n",
       "   queryName  rows          start     status            timestamp  \n",
       "10   Query 1   158  1761263876174  SUCCEEDED  2025-10-23 16:57:57  "
      ]
     },
     "execution_count": 36,
     "metadata": {},
     "output_type": "execute_result"
    }
   ],
   "source": [
    "results['removed']"
   ]
  },
  {
   "cell_type": "code",
   "execution_count": 37,
   "id": "a3587cf0-ae31-466f-bc26-76865aef4bcc",
   "metadata": {
    "editable": true,
    "slideshow": {
     "slide_type": ""
    },
    "tags": []
   },
   "outputs": [],
   "source": [
    "from typing import Optional, List\n",
    "\n",
    "def cellular_diff(df_old: pd.DataFrame, df_new: pd.DataFrame, key: Optional[List[str]] = None):\n",
    "    \"\"\"\n",
    "    Return a dict with 'added', 'removed', 'modified', and 'cell_diffs' (if possible).\n",
    "    - If key provided: modifications detected by key.\n",
    "    - If key not provided: treat whole-row equality.\n",
    "    \"\"\"\n",
    "    if key:\n",
    "        result = key_based_diff(df_old, df_new, key)\n",
    "        # try to build cell-level diffs for modified keys if index alignment possible\n",
    "        try:\n",
    "            old_idxed = df_old.set_index(key).loc[result['modified']['index'].unique()] if not result['modified'].empty else pd.DataFrame()\n",
    "            new_idxed = df_new.set_index(key).loc[result['modified']['index'].unique()] if not result['modified'].empty else pd.DataFrame()\n",
    "            if not old_idxed.empty and not new_idxed.empty:\n",
    "                # align and compare\n",
    "                old_idxed = old_idxed.sort_index()\n",
    "                new_idxed = new_idxed.sort_index()\n",
    "                cell_diff = old_idxed.compare(new_idxed)\n",
    "            else:\n",
    "                cell_diff = pd.DataFrame()\n",
    "        except Exception:\n",
    "            cell_diff = pd.DataFrame()\n",
    "        result['cell_diffs'] = cell_diff\n",
    "        return result\n",
    "    else:\n",
    "        rows = row_level_diff(df_old, df_new)\n",
    "        # try cell-level compare if both have same index/columns and size\n",
    "        try:\n",
    "            a = df_old.sort_index(axis=1).reset_index(drop=True)\n",
    "            b = df_new.reindex(columns=a.columns).sort_index(axis=1).reset_index(drop=True)\n",
    "            if a.shape == b.shape:\n",
    "                cell_diff = a.compare(b)\n",
    "            else:\n",
    "                cell_diff = pd.DataFrame()\n",
    "        except Exception:\n",
    "            cell_diff = pd.DataFrame()\n",
    "        return {'added': rows['added'], 'removed': rows['removed'], 'cell_diffs': cell_diff}\n"
   ]
  },
  {
   "cell_type": "code",
   "execution_count": 38,
   "id": "5e888776-c87d-49d0-adbe-a98ca4e4a7f2",
   "metadata": {
    "editable": true,
    "slideshow": {
     "slide_type": ""
    },
    "tags": []
   },
   "outputs": [],
   "source": [
    "cell_results = cellular_diff(base_responses, delta_responses)"
   ]
  },
  {
   "cell_type": "code",
   "execution_count": 39,
   "id": "01dfe105-c79c-4806-97b3-4eb3f3ec51db",
   "metadata": {
    "editable": true,
    "slideshow": {
     "slide_type": ""
    },
    "tags": []
   },
   "outputs": [
    {
     "data": {
      "text/html": [
       "<div>\n",
       "<style scoped>\n",
       "    .dataframe tbody tr th:only-of-type {\n",
       "        vertical-align: middle;\n",
       "    }\n",
       "\n",
       "    .dataframe tbody tr th {\n",
       "        vertical-align: top;\n",
       "    }\n",
       "\n",
       "    .dataframe thead th {\n",
       "        text-align: right;\n",
       "    }\n",
       "</style>\n",
       "<table border=\"1\" class=\"dataframe\">\n",
       "  <thead>\n",
       "    <tr style=\"text-align: right;\">\n",
       "      <th></th>\n",
       "      <th>duration</th>\n",
       "      <th>end</th>\n",
       "      <th>gatlingRunId</th>\n",
       "      <th>gatlingSessionId</th>\n",
       "      <th>inboundTextAsMd5Hash</th>\n",
       "      <th>level</th>\n",
       "      <th>logger</th>\n",
       "      <th>model</th>\n",
       "      <th>queryName</th>\n",
       "      <th>rows</th>\n",
       "      <th>start</th>\n",
       "      <th>status</th>\n",
       "      <th>timestamp</th>\n",
       "    </tr>\n",
       "  </thead>\n",
       "  <tbody>\n",
       "    <tr>\n",
       "      <th>70</th>\n",
       "      <td>1039</td>\n",
       "      <td>1761263877205</td>\n",
       "      <td>Gimme Shelter</td>\n",
       "      <td>1</td>\n",
       "      <td>be54cac66a736a56b5c57653badbb063</td>\n",
       "      <td>INFO</td>\n",
       "      <td>SqlLogger</td>\n",
       "      <td>internet_sales</td>\n",
       "      <td>Query 1</td>\n",
       "      <td>159</td>\n",
       "      <td>1761263876174</td>\n",
       "      <td>SUCCEEDED</td>\n",
       "      <td>2025-10-23 16:57:57</td>\n",
       "    </tr>\n",
       "    <tr>\n",
       "      <th>71</th>\n",
       "      <td>1031</td>\n",
       "      <td>1761263877205</td>\n",
       "      <td>Gimme Shelter</td>\n",
       "      <td>1</td>\n",
       "      <td>be54cac66a736a56b5c57653badbb069</td>\n",
       "      <td>INFO</td>\n",
       "      <td>SqlLogger</td>\n",
       "      <td>internet_sales</td>\n",
       "      <td>Query 100</td>\n",
       "      <td>0</td>\n",
       "      <td>1761263876174</td>\n",
       "      <td>SUCCEEDED</td>\n",
       "      <td>2025-10-23 16:57:57</td>\n",
       "    </tr>\n",
       "  </tbody>\n",
       "</table>\n",
       "</div>"
      ],
      "text/plain": [
       "    duration            end   gatlingRunId  gatlingSessionId  \\\n",
       "70      1039  1761263877205  Gimme Shelter                 1   \n",
       "71      1031  1761263877205  Gimme Shelter                 1   \n",
       "\n",
       "                inboundTextAsMd5Hash level     logger           model  \\\n",
       "70  be54cac66a736a56b5c57653badbb063  INFO  SqlLogger  internet_sales   \n",
       "71  be54cac66a736a56b5c57653badbb069  INFO  SqlLogger  internet_sales   \n",
       "\n",
       "    queryName  rows          start     status            timestamp  \n",
       "70    Query 1   159  1761263876174  SUCCEEDED  2025-10-23 16:57:57  \n",
       "71  Query 100     0  1761263876174  SUCCEEDED  2025-10-23 16:57:57  "
      ]
     },
     "execution_count": 39,
     "metadata": {},
     "output_type": "execute_result"
    }
   ],
   "source": [
    "cell_results['added']"
   ]
  },
  {
   "cell_type": "code",
   "execution_count": 40,
   "id": "c5fe5ee2-a317-4b23-a4d6-641ed0ea474e",
   "metadata": {
    "editable": true,
    "slideshow": {
     "slide_type": ""
    },
    "tags": []
   },
   "outputs": [
    {
     "data": {
      "text/html": [
       "<div>\n",
       "<style scoped>\n",
       "    .dataframe tbody tr th:only-of-type {\n",
       "        vertical-align: middle;\n",
       "    }\n",
       "\n",
       "    .dataframe tbody tr th {\n",
       "        vertical-align: top;\n",
       "    }\n",
       "\n",
       "    .dataframe thead th {\n",
       "        text-align: right;\n",
       "    }\n",
       "</style>\n",
       "<table border=\"1\" class=\"dataframe\">\n",
       "  <thead>\n",
       "    <tr style=\"text-align: right;\">\n",
       "      <th></th>\n",
       "      <th>duration</th>\n",
       "      <th>end</th>\n",
       "      <th>gatlingRunId</th>\n",
       "      <th>gatlingSessionId</th>\n",
       "      <th>inboundTextAsMd5Hash</th>\n",
       "      <th>level</th>\n",
       "      <th>logger</th>\n",
       "      <th>model</th>\n",
       "      <th>queryName</th>\n",
       "      <th>rows</th>\n",
       "      <th>start</th>\n",
       "      <th>status</th>\n",
       "      <th>timestamp</th>\n",
       "    </tr>\n",
       "  </thead>\n",
       "  <tbody>\n",
       "    <tr>\n",
       "      <th>10</th>\n",
       "      <td>1031</td>\n",
       "      <td>1761263877205</td>\n",
       "      <td>Gimme Shelter</td>\n",
       "      <td>1</td>\n",
       "      <td>be54cac66a736a56b5c57653badbb063</td>\n",
       "      <td>INFO</td>\n",
       "      <td>SqlLogger</td>\n",
       "      <td>internet_sales</td>\n",
       "      <td>Query 1</td>\n",
       "      <td>158</td>\n",
       "      <td>1761263876174</td>\n",
       "      <td>SUCCEEDED</td>\n",
       "      <td>2025-10-23 16:57:57</td>\n",
       "    </tr>\n",
       "  </tbody>\n",
       "</table>\n",
       "</div>"
      ],
      "text/plain": [
       "    duration            end   gatlingRunId  gatlingSessionId  \\\n",
       "10      1031  1761263877205  Gimme Shelter                 1   \n",
       "\n",
       "                inboundTextAsMd5Hash level     logger           model  \\\n",
       "10  be54cac66a736a56b5c57653badbb063  INFO  SqlLogger  internet_sales   \n",
       "\n",
       "   queryName  rows          start     status            timestamp  \n",
       "10   Query 1   158  1761263876174  SUCCEEDED  2025-10-23 16:57:57  "
      ]
     },
     "execution_count": 40,
     "metadata": {},
     "output_type": "execute_result"
    }
   ],
   "source": [
    "cell_results['removed']"
   ]
  },
  {
   "cell_type": "code",
   "execution_count": 41,
   "id": "17d9cc6c-0ceb-4fb1-a841-44451440e5a7",
   "metadata": {
    "editable": true,
    "slideshow": {
     "slide_type": ""
    },
    "tags": []
   },
   "outputs": [
    {
     "data": {
      "text/html": [
       "<div>\n",
       "<style scoped>\n",
       "    .dataframe tbody tr th:only-of-type {\n",
       "        vertical-align: middle;\n",
       "    }\n",
       "\n",
       "    .dataframe tbody tr th {\n",
       "        vertical-align: top;\n",
       "    }\n",
       "\n",
       "    .dataframe thead th {\n",
       "        text-align: right;\n",
       "    }\n",
       "</style>\n",
       "<table border=\"1\" class=\"dataframe\">\n",
       "  <thead>\n",
       "    <tr style=\"text-align: right;\">\n",
       "      <th></th>\n",
       "    </tr>\n",
       "  </thead>\n",
       "  <tbody>\n",
       "  </tbody>\n",
       "</table>\n",
       "</div>"
      ],
      "text/plain": [
       "Empty DataFrame\n",
       "Columns: []\n",
       "Index: []"
      ]
     },
     "execution_count": 41,
     "metadata": {},
     "output_type": "execute_result"
    }
   ],
   "source": [
    "cell_results['cell_diffs']"
   ]
  },
  {
   "cell_type": "code",
   "execution_count": null,
   "id": "05ed5a4e-eb2f-4fcd-a2b1-2c0fb950dda1",
   "metadata": {
    "editable": true,
    "slideshow": {
     "slide_type": ""
    },
    "tags": []
   },
   "outputs": [],
   "source": []
  },
  {
   "cell_type": "code",
   "execution_count": null,
   "id": "767a918f-b67c-412e-9a6c-d3a5b2a0448e",
   "metadata": {
    "editable": true,
    "slideshow": {
     "slide_type": ""
    },
    "tags": []
   },
   "outputs": [],
   "source": []
  }
 ],
 "metadata": {
  "kernelspec": {
   "display_name": "Python 3 (ipykernel)",
   "language": "python",
   "name": "python3"
  },
  "language_info": {
   "codemirror_mode": {
    "name": "ipython",
    "version": 3
   },
   "file_extension": ".py",
   "mimetype": "text/x-python",
   "name": "python",
   "nbconvert_exporter": "python",
   "pygments_lexer": "ipython3",
   "version": "3.11.6"
  }
 },
 "nbformat": 4,
 "nbformat_minor": 5
}
